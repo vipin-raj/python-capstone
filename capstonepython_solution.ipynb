{
 "cells": [
  {
   "cell_type": "code",
   "execution_count": 1,
   "id": "a5996d4c-b14d-4e13-8645-bf0679e8631f",
   "metadata": {},
   "outputs": [],
   "source": [
    "import pandas as pd\n",
    "\n",
    "# Data for Employee DataFrame\n",
    "employee_data = {\n",
    "    \"ID\": [\"A001\", \"A002\", \"A003\", \"A004\", \"A005\"],\n",
    "    \"Name\": [\"John Alter\", \"Alice Luxumberg\", \"Tom Sabestine\", \"Nina Adgra\", \"Amy Johny\"],\n",
    "    \"Gender\": [\"M\", \"F\", \"M\", \"F\", \"F\"],\n",
    "    \"City\": [\"Paris\", \"London\", \"Berlin\", \"Newyork\", \"Madrid\"],\n",
    "    \"Age\": [25, 27, 29, 31, 30]\n",
    "}\n",
    "\n",
    "# Creating Employee DataFrame\n",
    "employee_df = pd.DataFrame(employee_data)\n",
    "\n",
    "# Data for Seniority Level DataFrame\n",
    "seniority_data = {\n",
    "    \"ID\": [\"A001\", \"A002\", \"A003\", \"A004\", \"A005\"],\n",
    "    \"Designation Level\": [2, 2, 3, 2, 3]\n",
    "}\n",
    "\n",
    "# Creating Seniority Level DataFrame\n",
    "seniority_df = pd.DataFrame(seniority_data)\n",
    "\n",
    "# Data for Project DataFrame\n",
    "project_data = {\n",
    "    \"ID\": [\"A001\", \"A002\", \"A003\", \"A004\", \"A005\", \"A002\", \"A005\", \"A003\", \"A001\", \"A003\", \"A001\", \"A004\", \"A004\", \"A005\"],\n",
    "    \"Project\": [\"Project 1\", \"Project 2\", \"Project 3\", \"Project 4\", \"Project 5\", \"Project 6\", \"Project 7\", \"Project 8\", \"Project 9\", \"Project 10\", \"Project 11\", \"Project 12\", \"Project 13\", \"Project 14\"],\n",
    "    \"Cost\": [1002000, 2000000, 4500000, 5500000, None, 680000, 400000, 350000, None, 300000, 2000000, 1000000, 3000000, 200000],\n",
    "    \"Status\": [\"Finished\", \"Ongoing\", \"Finished\", \"Ongoing\", \"Finished\", \"Failed\", \"Finished\", \"Failed\", \"Ongoing\", \"Finished\", \"Failed\", \"Ongoing\", \"Finished\", \"Finished\"]\n",
    "}\n",
    "\n",
    "# Creating Project DataFrame\n",
    "project_df = pd.DataFrame(project_data)\n",
    "\n",
    "# Saving DataFrames as CSV files\n",
    "employee_df.to_csv('employee.csv', index=False)\n",
    "seniority_df.to_csv('seniority.csv', index=False)\n",
    "project_df.to_csv('project.csv', index=False)\n"
   ]
  },
  {
   "cell_type": "code",
   "execution_count": 3,
   "id": "1a152a42-8f98-4275-974c-da91907a5f52",
   "metadata": {},
   "outputs": [],
   "source": [
    "# Calculating the average to fill missing values\n",
    "for i in range(len(project_df)):\n",
    "    if pd.isnull(project_df.loc[i, 'Cost']):\n",
    "        project_df.loc[i, 'Cost'] = project_df['Cost'][:i].mean()\n",
    "\n",
    "# Save the updated DataFrame\n",
    "project_df.to_csv('project.csv', index=False)\n"
   ]
  },
  {
   "cell_type": "code",
   "execution_count": 7,
   "id": "c2f524fc-391b-4674-b210-fd574d2968a4",
   "metadata": {},
   "outputs": [],
   "source": [
    "# Splitting the Name column into First Name and Last Name\n",
    "employee_df[['First Name', 'Last Name']] = employee_df['Name'].str.split(' ', n=1, expand=True)\n",
    "\n",
    "# Drop the original Name column\n",
    "employee_df.drop(columns=['Name'], inplace=True)\n",
    "\n",
    "# Save the updated DataFrame\n",
    "employee_df.to_csv('employee.csv', index=False)\n"
   ]
  },
  {
   "cell_type": "code",
   "execution_count": 9,
   "id": "69b40b3f-33ad-4a22-bfb2-5512162f697e",
   "metadata": {},
   "outputs": [],
   "source": [
    "# Merge Employee and Seniority DataFrames\n",
    "final_df = pd.merge(employee_df, seniority_df, on='ID')\n",
    "\n",
    "# Merge the result with the Project DataFrame\n",
    "final_df = pd.merge(final_df, project_df, on='ID')\n",
    "\n",
    "# Save the Final DataFrame\n",
    "final_df.to_csv('final.csv', index=False)\n"
   ]
  },
  {
   "cell_type": "code",
   "execution_count": 11,
   "id": "5b905dc4-377f-45ab-be19-03ebfc2d2f62",
   "metadata": {},
   "outputs": [],
   "source": [
    "# Adding a Bonus column\n",
    "final_df['Bonus'] = final_df.apply(lambda row: row['Cost'] * 0.05 if row['Status'] == 'Finished' else 0, axis=1)\n",
    "\n",
    "# Save the updated Final DataFrame\n",
    "final_df.to_csv('final.csv', index=False)\n"
   ]
  },
  {
   "cell_type": "code",
   "execution_count": 13,
   "id": "a0c50719-bfd5-4ef0-90b8-75cf7748ce8c",
   "metadata": {},
   "outputs": [],
   "source": [
    "# Demoting employees with failed projects\n",
    "final_df.loc[final_df['Status'] == 'Failed', 'Designation Level'] -= 1\n",
    "\n",
    "# Removing employees with a designation level above 4\n",
    "final_df = final_df[final_df['Designation Level'] <= 4]\n",
    "\n",
    "# Save the updated Final DataFrame\n",
    "final_df.to_csv('final.csv', index=False)\n"
   ]
  },
  {
   "cell_type": "code",
   "execution_count": 15,
   "id": "f40b9dc5-62fd-4273-bca5-4693728e46fb",
   "metadata": {},
   "outputs": [],
   "source": [
    "# Add titles to the First Name column\n",
    "final_df['First Name'] = final_df.apply(lambda row: 'Mr. ' + row['First Name'] if row['Gender'] == 'M' else 'Mrs. ' + row['First Name'], axis=1)\n",
    "\n",
    "# Drop the Gender column\n",
    "final_df.drop(columns=['Gender'], inplace=True)\n",
    "\n",
    "# Save the updated Final DataFrame\n",
    "final_df.to_csv('final.csv', index=False)"
   ]
  },
  {
   "cell_type": "code",
   "execution_count": 17,
   "id": "20af5bb1-1d41-4c78-952e-1252afe8fcb6",
   "metadata": {},
   "outputs": [],
   "source": [
    "# Promote employees based on age\n",
    "final_df.loc[final_df['Age'] > 29, 'Designation Level'] += 1\n",
    "\n",
    "# Save the updated Final DataFrame\n",
    "final_df.to_csv('final.csv', index=False)\n"
   ]
  },
  {
   "cell_type": "code",
   "execution_count": 19,
   "id": "5b8c7347-0ffb-4c64-afe8-bdba54bb4eb5",
   "metadata": {},
   "outputs": [],
   "source": [
    "# Calculate the total project cost for each employee\n",
    "total_proj_cost = final_df.groupby(['ID', 'First Name'])['Cost'].sum().reset_index()\n",
    "total_proj_cost.rename(columns={'Cost': 'Total Cost'}, inplace=True)\n",
    "\n",
    "# Save the Total Project Cost DataFrame\n",
    "total_proj_cost.to_csv('total_proj_cost.csv', index=False)\n"
   ]
  },
  {
   "cell_type": "code",
   "execution_count": 21,
   "id": "21bbd162-4a2c-4bb3-b8a7-37dd843a7793",
   "metadata": {},
   "outputs": [
    {
     "name": "stdout",
     "output_type": "stream",
     "text": [
      "      ID     City  Age  First Name  Last Name  Designation Level     Project  \\\n",
      "3   A002   London   27  Mrs. Alice  Luxumberg                  2   Project 2   \n",
      "4   A002   London   27  Mrs. Alice  Luxumberg                  1   Project 6   \n",
      "8   A004  Newyork   31   Mrs. Nina      Adgra                  3   Project 4   \n",
      "9   A004  Newyork   31   Mrs. Nina      Adgra                  3  Project 12   \n",
      "10  A004  Newyork   31   Mrs. Nina      Adgra                  3  Project 13   \n",
      "\n",
      "         Cost    Status     Bonus  \n",
      "3   2000000.0   Ongoing       0.0  \n",
      "4    680000.0    Failed       0.0  \n",
      "8   5500000.0   Ongoing       0.0  \n",
      "9   1000000.0   Ongoing       0.0  \n",
      "10  3000000.0  Finished  150000.0  \n"
     ]
    }
   ],
   "source": [
    "# Filter employees whose city names contain the letter \"o\"\n",
    "filtered_employees = final_df[final_df['City'].str.contains('o', case=False)]\n",
    "\n",
    "# Print the filtered employees\n",
    "print(filtered_employees)\n"
   ]
  },
  {
   "cell_type": "code",
   "execution_count": null,
   "id": "09bf642f-cbb2-4ae2-b932-ea6f7ca4ba03",
   "metadata": {},
   "outputs": [],
   "source": []
  }
 ],
 "metadata": {
  "kernelspec": {
   "display_name": "Python 3 (ipykernel)",
   "language": "python",
   "name": "python3"
  },
  "language_info": {
   "codemirror_mode": {
    "name": "ipython",
    "version": 3
   },
   "file_extension": ".py",
   "mimetype": "text/x-python",
   "name": "python",
   "nbconvert_exporter": "python",
   "pygments_lexer": "ipython3",
   "version": "3.12.4"
  }
 },
 "nbformat": 4,
 "nbformat_minor": 5
}
